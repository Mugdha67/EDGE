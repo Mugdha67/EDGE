{
  "nbformat": 4,
  "nbformat_minor": 0,
  "metadata": {
    "colab": {
      "provenance": [],
      "authorship_tag": "ABX9TyPIcF1ZO2tllybRk5XNdmwB",
      "include_colab_link": true
    },
    "kernelspec": {
      "name": "python3",
      "display_name": "Python 3"
    },
    "language_info": {
      "name": "python"
    }
  },
  "cells": [
    {
      "cell_type": "markdown",
      "metadata": {
        "id": "view-in-github",
        "colab_type": "text"
      },
      "source": [
        "<a href=\"https://colab.research.google.com/github/Mugdha67/EDGE/blob/main/Kuldip_jan5.ipynb\" target=\"_parent\"><img src=\"https://colab.research.google.com/assets/colab-badge.svg\" alt=\"Open In Colab\"/></a>"
      ]
    },
    {
      "cell_type": "markdown",
      "source": [
        "**Math Modules**"
      ],
      "metadata": {
        "id": "0WKkFCrxTjfF"
      }
    },
    {
      "cell_type": "code",
      "source": [
        "# Import math Library\n",
        "import math\n",
        "\n",
        "# Return the arc cosine of numbers\n",
        "print(math.acos(0.55))\n",
        "print(math.acos(-0.55))\n",
        "print(math.acos(0))\n",
        "print(math.acos(1))\n",
        "print(math.acos(-1))"
      ],
      "metadata": {
        "colab": {
          "base_uri": "https://localhost:8080/"
        },
        "id": "1hGWGAxgTqlV",
        "outputId": "2653f85b-fa0a-4726-c00f-bb60b934ac42"
      },
      "execution_count": 1,
      "outputs": [
        {
          "output_type": "stream",
          "name": "stdout",
          "text": [
            "0.9884320889261531\n",
            "2.15316056466364\n",
            "1.5707963267948966\n",
            "0.0\n",
            "3.141592653589793\n"
          ]
        }
      ]
    },
    {
      "cell_type": "code",
      "source": [
        "# Import math Library\n",
        "import math\n",
        "\n",
        "# Return the inverse hyperbolic cosine of different numbers\n",
        "print (math.acosh(7))\n",
        "print (math.acosh(56))\n",
        "print (math.acosh(2.45))\n",
        "print (math.acosh(1))"
      ],
      "metadata": {
        "colab": {
          "base_uri": "https://localhost:8080/"
        },
        "id": "D_qYG0sGT7Gs",
        "outputId": "183627ef-746b-4051-d9c6-3a3f955d1671"
      },
      "execution_count": 2,
      "outputs": [
        {
          "output_type": "stream",
          "name": "stdout",
          "text": [
            "2.6339157938496336\n",
            "4.718419142372879\n",
            "1.5447131178707394\n",
            "0.0\n"
          ]
        }
      ]
    },
    {
      "cell_type": "code",
      "source": [
        "# Import math Library\n",
        "import math\n",
        "\n",
        "# Return the arc sine of numbers\n",
        "print(math.asin(0.55))\n",
        "print(math.asin(-0.55))\n",
        "print(math.asin(0))\n",
        "print(math.asin(1))\n",
        "print(math.asin(-1))"
      ],
      "metadata": {
        "colab": {
          "base_uri": "https://localhost:8080/"
        },
        "id": "qrbAwsbUUgsG",
        "outputId": "a2ea4dc4-164e-4741-a266-c9415db3f7a9"
      },
      "execution_count": 3,
      "outputs": [
        {
          "output_type": "stream",
          "name": "stdout",
          "text": [
            "0.5823642378687435\n",
            "-0.5823642378687435\n",
            "0.0\n",
            "1.5707963267948966\n",
            "-1.5707963267948966\n"
          ]
        }
      ]
    },
    {
      "cell_type": "code",
      "source": [
        "# Import math Library\n",
        "import math\n",
        "\n",
        "# Return the inverse hyperbolic sine of numbers\n",
        "print(math.asinh(7))\n",
        "print(math.asinh(56))\n",
        "print(math.asinh(2.45))\n",
        "print(math.asinh(1))"
      ],
      "metadata": {
        "colab": {
          "base_uri": "https://localhost:8080/"
        },
        "id": "LmXyKjoPVKpp",
        "outputId": "ff132d6e-45f8-422e-b4b2-b43b0d70ae1b"
      },
      "execution_count": 4,
      "outputs": [
        {
          "output_type": "stream",
          "name": "stdout",
          "text": [
            "2.644120761058629\n",
            "4.718578581151767\n",
            "1.6284998192841909\n",
            "0.881373587019543\n"
          ]
        }
      ]
    },
    {
      "cell_type": "code",
      "source": [
        "#Import math Library\n",
        "import math\n",
        "\n",
        "#fReturn the arc tangent of different numbers\n",
        "print (math.atan(0.39))\n",
        "print (math.atan(67))\n",
        "print (math.atan(-21))"
      ],
      "metadata": {
        "colab": {
          "base_uri": "https://localhost:8080/"
        },
        "id": "pJgydrU-V2cx",
        "outputId": "2d876a44-ef2b-4078-e7a8-ff01bc12f25d"
      },
      "execution_count": 5,
      "outputs": [
        {
          "output_type": "stream",
          "name": "stdout",
          "text": [
            "0.37185607384858127\n",
            "1.5558720618048116\n",
            "-1.5232132235179132\n"
          ]
        }
      ]
    },
    {
      "cell_type": "code",
      "source": [
        "# Import math Library\n",
        "import math\n",
        "\n",
        "# Return the arc tangent of y/x in radians\n",
        "print(math.atan2(8, 5))\n",
        "print(math.atan2(20, 10))\n",
        "print(math.atan2(34, -7))"
      ],
      "metadata": {
        "colab": {
          "base_uri": "https://localhost:8080/"
        },
        "id": "d-9MQJWrV8X2",
        "outputId": "8c76f950-8956-4016-a322-838b52c4d9bf"
      },
      "execution_count": 6,
      "outputs": [
        {
          "output_type": "stream",
          "name": "stdout",
          "text": [
            "1.0121970114513341\n",
            "1.1071487177940904\n",
            "1.7738415440483617\n"
          ]
        }
      ]
    },
    {
      "cell_type": "code",
      "source": [
        "#Import math Library\n",
        "import math\n",
        "\n",
        "#print the hyperbolic arctangent of different numbers\n",
        "print(math.atanh(0.59))\n",
        "print(math.atanh(-0.12))"
      ],
      "metadata": {
        "colab": {
          "base_uri": "https://localhost:8080/"
        },
        "id": "5D4q0nUeWCxs",
        "outputId": "fe573101-e32f-49b0-e203-f74b93d7b0e7"
      },
      "execution_count": 7,
      "outputs": [
        {
          "output_type": "stream",
          "name": "stdout",
          "text": [
            "0.6776660677579618\n",
            "-0.12058102840844404\n"
          ]
        }
      ]
    },
    {
      "cell_type": "code",
      "source": [
        "# Import math library\n",
        "import math\n",
        "\n",
        "# Round a number upward to its nearest integer\n",
        "print(math.ceil(1.4))\n",
        "print(math.ceil(5.3))\n",
        "print(math.ceil(-5.3))\n",
        "print(math.ceil(22.6))\n",
        "print(math.ceil(10.0))"
      ],
      "metadata": {
        "colab": {
          "base_uri": "https://localhost:8080/"
        },
        "id": "VkED7TByWHJX",
        "outputId": "a7566ebb-9e3d-4a06-b820-a8036e5e1d41"
      },
      "execution_count": 8,
      "outputs": [
        {
          "output_type": "stream",
          "name": "stdout",
          "text": [
            "2\n",
            "6\n",
            "-5\n",
            "23\n",
            "10\n"
          ]
        }
      ]
    },
    {
      "cell_type": "code",
      "source": [
        "# Import math Library\n",
        "import math\n",
        "\n",
        "# Initialize the number of items to choose from\n",
        "n = 7\n",
        "\n",
        "# Initialize the number of possibilities to choose\n",
        "k = 5\n",
        "\n",
        "# Print total number of possible combinations\n",
        "print (math.comb(n, k))"
      ],
      "metadata": {
        "colab": {
          "base_uri": "https://localhost:8080/"
        },
        "id": "wjQUJytuWPKH",
        "outputId": "f492b628-87dd-4ea6-f53c-fcdf64a9f1c4"
      },
      "execution_count": 9,
      "outputs": [
        {
          "output_type": "stream",
          "name": "stdout",
          "text": [
            "21\n"
          ]
        }
      ]
    },
    {
      "cell_type": "code",
      "source": [
        "#Import math Library\n",
        "import math\n",
        "\n",
        "#Return the value of the first parameter and the sign of the second parameter\n",
        "print(math.copysign(4, -1))\n",
        "print(math.copysign(-8, 97.21))\n",
        "print(math.copysign(-43, -76))"
      ],
      "metadata": {
        "colab": {
          "base_uri": "https://localhost:8080/"
        },
        "id": "PRhRC2VLWfoR",
        "outputId": "743dff35-37e3-427b-8f13-56168ecc1187"
      },
      "execution_count": 10,
      "outputs": [
        {
          "output_type": "stream",
          "name": "stdout",
          "text": [
            "-4.0\n",
            "8.0\n",
            "-43.0\n"
          ]
        }
      ]
    },
    {
      "cell_type": "code",
      "source": [
        "# Import math Library\n",
        "import math\n",
        "\n",
        "# Return the cosine of different numbers\n",
        "print (math.cos(0.00))\n",
        "print (math.cos(-1.23))\n",
        "print (math.cos(10))\n",
        "print (math.cos(3.14159265359))"
      ],
      "metadata": {
        "colab": {
          "base_uri": "https://localhost:8080/"
        },
        "id": "PHk-aQSJXVxz",
        "outputId": "771b7001-21ba-4b73-addb-f9125905fe89"
      },
      "execution_count": 11,
      "outputs": [
        {
          "output_type": "stream",
          "name": "stdout",
          "text": [
            "1.0\n",
            "0.3342377271245026\n",
            "-0.8390715290764524\n",
            "-1.0\n"
          ]
        }
      ]
    },
    {
      "cell_type": "code",
      "source": [
        "# Import math Library\n",
        "import math\n",
        "\n",
        "# Return the hyperbolic cosine of different numbers\n",
        "print (math.cosh(1))\n",
        "print (math.cosh(8.90))\n",
        "print (math.cosh(0))\n",
        "print (math.cosh(1.52))"
      ],
      "metadata": {
        "colab": {
          "base_uri": "https://localhost:8080/"
        },
        "id": "Yi-RdTl-XbrE",
        "outputId": "e8d6787f-9e0a-46da-961e-209c4d77291b"
      },
      "execution_count": 12,
      "outputs": [
        {
          "output_type": "stream",
          "name": "stdout",
          "text": [
            "1.5430806348152437\n",
            "3665.986837772461\n",
            "1.0\n",
            "2.3954685410471868\n"
          ]
        }
      ]
    },
    {
      "cell_type": "code",
      "source": [
        "# Import math Library\n",
        "import math\n",
        "\n",
        "# Convert from radians to degrees:\n",
        "print (math.degrees(8.90))\n",
        "print (math.degrees(-20))\n",
        "print (math.degrees(1))\n",
        "print (math.degrees(90))"
      ],
      "metadata": {
        "colab": {
          "base_uri": "https://localhost:8080/"
        },
        "id": "4dGwEIJIXoHN",
        "outputId": "a2afc8d8-9e51-4f68-cd62-a7705cdc2a75"
      },
      "execution_count": 13,
      "outputs": [
        {
          "output_type": "stream",
          "name": "stdout",
          "text": [
            "509.9324376664327\n",
            "-1145.9155902616465\n",
            "57.29577951308232\n",
            "5156.620156177409\n"
          ]
        }
      ]
    },
    {
      "cell_type": "code",
      "source": [
        "# Import math Library\n",
        "import math\n",
        "\n",
        "p = [3]\n",
        "q = [1]\n",
        "\n",
        "# Calculate Euclidean distance\n",
        "print (math.dist(p, q))\n",
        "\n",
        "p = [3, 3]\n",
        "q = [6, 12]\n",
        "\n",
        "# Calculate Euclidean distance\n",
        "print (math.dist(p, q))"
      ],
      "metadata": {
        "colab": {
          "base_uri": "https://localhost:8080/"
        },
        "id": "PexcJEtIX3IJ",
        "outputId": "12ff3b99-f611-4406-d9a2-ea9e21302b35"
      },
      "execution_count": 14,
      "outputs": [
        {
          "output_type": "stream",
          "name": "stdout",
          "text": [
            "2.0\n",
            "9.486832980505138\n"
          ]
        }
      ]
    },
    {
      "cell_type": "code",
      "source": [
        "# Import math Library\n",
        "import math\n",
        "\n",
        "# Print error function for different numbers\n",
        "print (math.erf(0.67))\n",
        "print (math.erf(1.34))\n",
        "print (math.erf(-6))"
      ],
      "metadata": {
        "colab": {
          "base_uri": "https://localhost:8080/"
        },
        "id": "JqkGri34YEzx",
        "outputId": "ab3540b2-ec82-4864-dbca-960590b2bd1a"
      },
      "execution_count": 15,
      "outputs": [
        {
          "output_type": "stream",
          "name": "stdout",
          "text": [
            "0.6566277023003051\n",
            "0.9419137152583653\n",
            "-1.0\n"
          ]
        }
      ]
    },
    {
      "cell_type": "code",
      "source": [
        "# Import math Library\n",
        "import math\n",
        "\n",
        "# Print complementary error function for different numbers\n",
        "print (math.erfc(0.67))\n",
        "print (math.erfc(1.34))\n",
        "print (math.erfc(-6))"
      ],
      "metadata": {
        "colab": {
          "base_uri": "https://localhost:8080/"
        },
        "id": "orwWWGURYNFs",
        "outputId": "a774f0db-aaae-4295-e860-3bf3de324489"
      },
      "execution_count": 16,
      "outputs": [
        {
          "output_type": "stream",
          "name": "stdout",
          "text": [
            "0.3433722976996949\n",
            "0.058086284741634665\n",
            "2.0\n"
          ]
        }
      ]
    },
    {
      "cell_type": "code",
      "source": [
        "#Import math Library\n",
        "import math\n",
        "\n",
        "#find the exponential of the specified value\n",
        "print(math.exp(65))\n",
        "print(math.exp(-6.89))"
      ],
      "metadata": {
        "colab": {
          "base_uri": "https://localhost:8080/"
        },
        "id": "lEl08N3RZNOp",
        "outputId": "910504b0-0148-4564-ee14-478956f896c4"
      },
      "execution_count": 17,
      "outputs": [
        {
          "output_type": "stream",
          "name": "stdout",
          "text": [
            "1.6948892444103338e+28\n",
            "0.0010179138409954387\n"
          ]
        }
      ]
    },
    {
      "cell_type": "code",
      "source": [
        "#Import math Library\n",
        "import math\n",
        "\n",
        "#Return the exponential value of a number - 1\n",
        "print(math.expm1(32))\n",
        "print(math.expm1(-10.89))"
      ],
      "metadata": {
        "colab": {
          "base_uri": "https://localhost:8080/"
        },
        "id": "b21kdpeCZRON",
        "outputId": "799ca3ab-16d3-42d0-ed75-aaf3abaabb15"
      },
      "execution_count": 18,
      "outputs": [
        {
          "output_type": "stream",
          "name": "stdout",
          "text": [
            "78962960182679.69\n",
            "-0.9999813562576685\n"
          ]
        }
      ]
    },
    {
      "cell_type": "code",
      "source": [
        "#Import math Library\n",
        "import math\n",
        "\n",
        "#Print absolute values from numbers\n",
        "print(math.fabs(-66.43))\n",
        "print(math.fabs(-7))"
      ],
      "metadata": {
        "colab": {
          "base_uri": "https://localhost:8080/"
        },
        "id": "o4hGSMRMZeqy",
        "outputId": "4385320d-37d9-4265-ffcc-7486adfd1f88"
      },
      "execution_count": 19,
      "outputs": [
        {
          "output_type": "stream",
          "name": "stdout",
          "text": [
            "66.43\n",
            "7.0\n"
          ]
        }
      ]
    },
    {
      "cell_type": "code",
      "source": [
        "#Import math Library\n",
        "import math\n",
        "\n",
        "#Return factorial of a number\n",
        "print(math.factorial(9))\n",
        "print(math.factorial(6))\n",
        "print(math.factorial(12))"
      ],
      "metadata": {
        "colab": {
          "base_uri": "https://localhost:8080/"
        },
        "id": "hEd1FiimZkiU",
        "outputId": "a17b1596-3ef0-4e80-c9fb-bba9de4ea854"
      },
      "execution_count": 20,
      "outputs": [
        {
          "output_type": "stream",
          "name": "stdout",
          "text": [
            "362880\n",
            "720\n",
            "479001600\n"
          ]
        }
      ]
    },
    {
      "cell_type": "code",
      "source": [
        "# Import math library\n",
        "import math\n",
        "\n",
        "# Round numbers down to the nearest integer\n",
        "print(math.floor(0.6))\n",
        "print(math.floor(1.4))\n",
        "print(math.floor(5.3))\n",
        "print(math.floor(-5.3))\n",
        "print(math.floor(22.6))\n",
        "print(math.floor(10.0))"
      ],
      "metadata": {
        "colab": {
          "base_uri": "https://localhost:8080/"
        },
        "id": "uZigzF3eaPdv",
        "outputId": "aeca552f-9ecf-4740-9f39-d567c5e7b332"
      },
      "execution_count": 21,
      "outputs": [
        {
          "output_type": "stream",
          "name": "stdout",
          "text": [
            "0\n",
            "1\n",
            "5\n",
            "-6\n",
            "22\n",
            "10\n"
          ]
        }
      ]
    },
    {
      "cell_type": "code",
      "source": [
        "# Import math Library\n",
        "import math\n",
        "\n",
        "# Return the remainder of x/y\n",
        "print(math.fmod(20, 4))\n",
        "print(math.fmod(20, 3))\n",
        "print(math.fmod(15, 6))\n",
        "print(math.fmod(-10, 3))\n",
        "print(math.fmod(0, 0))#sunno k sunno diya mod kora jay na"
      ],
      "metadata": {
        "colab": {
          "base_uri": "https://localhost:8080/",
          "height": 245
        },
        "id": "k1ls2wnvaWhD",
        "outputId": "2736bf09-430b-4b3e-f889-3fda63ffbae0"
      },
      "execution_count": 22,
      "outputs": [
        {
          "output_type": "stream",
          "name": "stdout",
          "text": [
            "0.0\n",
            "2.0\n",
            "3.0\n",
            "-1.0\n"
          ]
        },
        {
          "output_type": "error",
          "ename": "ValueError",
          "evalue": "math domain error",
          "traceback": [
            "\u001b[0;31m---------------------------------------------------------------------------\u001b[0m",
            "\u001b[0;31mValueError\u001b[0m                                Traceback (most recent call last)",
            "\u001b[0;32m<ipython-input-22-7c67a542ab4e>\u001b[0m in \u001b[0;36m<cell line: 9>\u001b[0;34m()\u001b[0m\n\u001b[1;32m      7\u001b[0m \u001b[0mprint\u001b[0m\u001b[0;34m(\u001b[0m\u001b[0mmath\u001b[0m\u001b[0;34m.\u001b[0m\u001b[0mfmod\u001b[0m\u001b[0;34m(\u001b[0m\u001b[0;36m15\u001b[0m\u001b[0;34m,\u001b[0m \u001b[0;36m6\u001b[0m\u001b[0;34m)\u001b[0m\u001b[0;34m)\u001b[0m\u001b[0;34m\u001b[0m\u001b[0;34m\u001b[0m\u001b[0m\n\u001b[1;32m      8\u001b[0m \u001b[0mprint\u001b[0m\u001b[0;34m(\u001b[0m\u001b[0mmath\u001b[0m\u001b[0;34m.\u001b[0m\u001b[0mfmod\u001b[0m\u001b[0;34m(\u001b[0m\u001b[0;34m-\u001b[0m\u001b[0;36m10\u001b[0m\u001b[0;34m,\u001b[0m \u001b[0;36m3\u001b[0m\u001b[0;34m)\u001b[0m\u001b[0;34m)\u001b[0m\u001b[0;34m\u001b[0m\u001b[0;34m\u001b[0m\u001b[0m\n\u001b[0;32m----> 9\u001b[0;31m \u001b[0mprint\u001b[0m\u001b[0;34m(\u001b[0m\u001b[0mmath\u001b[0m\u001b[0;34m.\u001b[0m\u001b[0mfmod\u001b[0m\u001b[0;34m(\u001b[0m\u001b[0;36m0\u001b[0m\u001b[0;34m,\u001b[0m \u001b[0;36m0\u001b[0m\u001b[0;34m)\u001b[0m\u001b[0;34m)\u001b[0m\u001b[0;34m\u001b[0m\u001b[0;34m\u001b[0m\u001b[0m\n\u001b[0m",
            "\u001b[0;31mValueError\u001b[0m: math domain error"
          ]
        }
      ]
    },
    {
      "cell_type": "code",
      "source": [
        "#Import math Library\n",
        "import math\n",
        "\n",
        "#Return mantissa and exponent of numbers\n",
        "print(math.frexp(4))\n",
        "print(math.frexp(-4))\n",
        "print(math.frexp(7))"
      ],
      "metadata": {
        "colab": {
          "base_uri": "https://localhost:8080/"
        },
        "id": "08l6rBXfaijh",
        "outputId": "0c14f583-8c99-4f7f-9f50-00647bd049e5"
      },
      "execution_count": 23,
      "outputs": [
        {
          "output_type": "stream",
          "name": "stdout",
          "text": [
            "(0.5, 3)\n",
            "(-0.5, 3)\n",
            "(0.875, 3)\n"
          ]
        }
      ]
    },
    {
      "cell_type": "code",
      "source": [
        "# Import math Library\n",
        "import math\n",
        "\n",
        "# Print the sum of all items\n",
        "print(math.fsum([1, 2, 3, 4, 5]))\n",
        "print(math.fsum([100, 400, 340, 500]))\n",
        "print(math.fsum([1.7, 0.3, 1.5, 4.5]))"
      ],
      "metadata": {
        "colab": {
          "base_uri": "https://localhost:8080/"
        },
        "id": "HIZghEENc3Ze",
        "outputId": "9297f8b9-7a11-44db-eda2-2ecac333dbc0"
      },
      "execution_count": 24,
      "outputs": [
        {
          "output_type": "stream",
          "name": "stdout",
          "text": [
            "15.0\n",
            "1340.0\n",
            "8.0\n"
          ]
        }
      ]
    },
    {
      "cell_type": "code",
      "source": [
        "# Import math Library\n",
        "import math\n",
        "\n",
        "# Return the gamma function for different numbers\n",
        "print(math.gamma(-0.1))\n",
        "print(math.gamma(8))\n",
        "print(math.gamma(1.2))\n",
        "print(math.gamma(80))\n",
        "print(math.gamma(-0.55))"
      ],
      "metadata": {
        "colab": {
          "base_uri": "https://localhost:8080/"
        },
        "id": "mrSSpHB5c5L8",
        "outputId": "2cafe3df-e1f3-4e78-9c5b-819f10bba0ce"
      },
      "execution_count": 25,
      "outputs": [
        {
          "output_type": "stream",
          "name": "stdout",
          "text": [
            "-10.686287021193193\n",
            "5040.0\n",
            "0.9181687423997604\n",
            "8.946182130782976e+116\n",
            "-3.578429819277059\n"
          ]
        }
      ]
    },
    {
      "cell_type": "code",
      "source": [
        "#Import math Library\n",
        "import math\n",
        "\n",
        "#find the  the greatest common divisor of the two integers\n",
        "print (math.gcd(3, 6))\n",
        "print (math.gcd(6, 12))\n",
        "print (math.gcd(12, 36))\n",
        "print (math.gcd(-12, -36))\n",
        "print (math.gcd(5, 12))\n",
        "print (math.gcd(10, 0))\n",
        "print (math.gcd(0, 34))\n",
        "print (math.gcd(0, 0))"
      ],
      "metadata": {
        "colab": {
          "base_uri": "https://localhost:8080/"
        },
        "id": "jRrQpdTPd35E",
        "outputId": "c85c43f5-93c9-45fe-c868-a10ec11117a6"
      },
      "execution_count": 26,
      "outputs": [
        {
          "output_type": "stream",
          "name": "stdout",
          "text": [
            "3\n",
            "6\n",
            "12\n",
            "12\n",
            "1\n",
            "10\n",
            "34\n",
            "0\n"
          ]
        }
      ]
    },
    {
      "cell_type": "code",
      "source": [
        "# Import math Library\n",
        "import math\n",
        "\n",
        "#set perpendicular and base\n",
        "parendicular = 10\n",
        "base = 5\n",
        "\n",
        "#print the hypotenuse of a right-angled triangle\n",
        "print(math.hypot(parendicular, base))"
      ],
      "metadata": {
        "colab": {
          "base_uri": "https://localhost:8080/"
        },
        "id": "wlStvS-zeDG5",
        "outputId": "03ed6504-b6f2-41cb-b6b4-c30af4a3a94c"
      },
      "execution_count": 28,
      "outputs": [
        {
          "output_type": "stream",
          "name": "stdout",
          "text": [
            "11.180339887498949\n"
          ]
        }
      ]
    },
    {
      "cell_type": "code",
      "source": [
        "#Import math Library\n",
        "import math\n",
        "\n",
        "#compare the closeness of two values\n",
        "print(math.isclose(1.233, 1.4566))\n",
        "print(math.isclose(1.233, 1.233))\n",
        "print(math.isclose(1.233, 1.24))\n",
        "print(math.isclose(1.233, 1.233000001))"
      ],
      "metadata": {
        "colab": {
          "base_uri": "https://localhost:8080/"
        },
        "id": "uR1QR1g6ekOy",
        "outputId": "2180cea0-ede5-4277-aa9b-971c485edc5c"
      },
      "execution_count": 29,
      "outputs": [
        {
          "output_type": "stream",
          "name": "stdout",
          "text": [
            "False\n",
            "True\n",
            "False\n",
            "True\n"
          ]
        }
      ]
    },
    {
      "cell_type": "code",
      "source": [
        "# Import math Library\n",
        "import math\n",
        "\n",
        "# Check whether the values are finite or not\n",
        "print(math.isfinite(2000))\n",
        "print(math.isfinite(-45.34))\n",
        "print(math.isfinite(+45.34))\n",
        "print(math.isfinite(math.inf))\n",
        "print(math.isfinite(float(\"nan\")))\n",
        "print(math.isfinite(float(\"inf\")))\n",
        "print(math.isfinite(float(\"-inf\")))\n",
        "print(math.isfinite(-math.inf))\n",
        "print(math.isfinite(0.0))"
      ],
      "metadata": {
        "colab": {
          "base_uri": "https://localhost:8080/"
        },
        "id": "U-JYMFe1epNY",
        "outputId": "cfa968ec-50b6-4e73-dba6-4851ebcb97d9"
      },
      "execution_count": 30,
      "outputs": [
        {
          "output_type": "stream",
          "name": "stdout",
          "text": [
            "True\n",
            "True\n",
            "True\n",
            "False\n",
            "False\n",
            "False\n",
            "False\n",
            "False\n",
            "True\n"
          ]
        }
      ]
    },
    {
      "cell_type": "code",
      "source": [
        "# Import math Library\n",
        "import math\n",
        "\n",
        "# Check whether the values are infinite or not\n",
        "print(math.isinf(56))\n",
        "print(math.isinf(-45.34))\n",
        "print(math.isinf(+45.34))\n",
        "print(math.isinf(math.inf))\n",
        "print(math.isinf(float(\"nan\")))\n",
        "print(math.isinf(float(\"inf\")))\n",
        "print(math.isinf(float(\"-inf\")))\n",
        "print(math.isinf(-math.inf))"
      ],
      "metadata": {
        "colab": {
          "base_uri": "https://localhost:8080/"
        },
        "id": "yuOJMgp4e4uO",
        "outputId": "93aca104-e677-4fe1-8a1e-7e91ce7dcd6c"
      },
      "execution_count": 31,
      "outputs": [
        {
          "output_type": "stream",
          "name": "stdout",
          "text": [
            "False\n",
            "False\n",
            "False\n",
            "True\n",
            "False\n",
            "True\n",
            "True\n",
            "True\n"
          ]
        }
      ]
    },
    {
      "cell_type": "code",
      "source": [
        "# Import math Library\n",
        "import math\n",
        "\n",
        "# Check whether some values are NaN or not\n",
        "print (math.isnan (56))\n",
        "print (math.isnan (-45.34))\n",
        "print (math.isnan (+45.34))\n",
        "print (math.isnan (math.inf))\n",
        "print (math.isnan (float(\"nan\")))\n",
        "print (math.isnan (float(\"inf\")))\n",
        "print (math.isnan (float(\"-inf\")))\n",
        "print (math.isnan (math.nan))"
      ],
      "metadata": {
        "colab": {
          "base_uri": "https://localhost:8080/"
        },
        "id": "eDmVOi7YfRBs",
        "outputId": "1447c8d4-2d16-48dc-9729-e1da5141bf53"
      },
      "execution_count": 32,
      "outputs": [
        {
          "output_type": "stream",
          "name": "stdout",
          "text": [
            "False\n",
            "False\n",
            "False\n",
            "False\n",
            "True\n",
            "False\n",
            "False\n",
            "True\n"
          ]
        }
      ]
    },
    {
      "cell_type": "code",
      "source": [
        "# Import math Library\n",
        "import math\n",
        "\n",
        "# Print the square root of different numbers\n",
        "print (math.sqrt(10))\n",
        "print (math.sqrt (12))\n",
        "print (math.sqrt (68))\n",
        "print (math.sqrt (100))\n",
        "\n",
        "# Round square root downward to the nearest integer\n",
        "print (math.isqrt(10))\n",
        "print (math.isqrt (12))\n",
        "print (math.isqrt (68))\n",
        "print (math.isqrt (100))"
      ],
      "metadata": {
        "colab": {
          "base_uri": "https://localhost:8080/"
        },
        "id": "fGyEUITpfW5x",
        "outputId": "78fb084b-9255-4862-8d4c-bf52b7b050c5"
      },
      "execution_count": 33,
      "outputs": [
        {
          "output_type": "stream",
          "name": "stdout",
          "text": [
            "3.1622776601683795\n",
            "3.4641016151377544\n",
            "8.246211251235321\n",
            "10.0\n",
            "3\n",
            "3\n",
            "8\n",
            "10\n"
          ]
        }
      ]
    },
    {
      "cell_type": "code",
      "source": [
        "#Import math Library\n",
        "import math\n",
        "\n",
        "#Return value of x * (2**i)\n",
        "print(math.ldexp(9, 3))\n",
        "print(math.ldexp(-5, 2))\n",
        "print(math.ldexp(15, 2))"
      ],
      "metadata": {
        "colab": {
          "base_uri": "https://localhost:8080/"
        },
        "id": "hvMfXAz5fqHA",
        "outputId": "b0c23c1c-2ab5-4c5e-9171-cc7dd9bb9f69"
      },
      "execution_count": 34,
      "outputs": [
        {
          "output_type": "stream",
          "name": "stdout",
          "text": [
            "72.0\n",
            "-20.0\n",
            "60.0\n"
          ]
        }
      ]
    },
    {
      "cell_type": "code",
      "source": [
        "# Import math Library\n",
        "import math\n",
        "\n",
        "# Return the log gamma value of different numbers   # ln diya korte hobe\n",
        "print (math.lgamma(7))\n",
        "print (math.lgamma(-4.2))"
      ],
      "metadata": {
        "colab": {
          "base_uri": "https://localhost:8080/"
        },
        "id": "S1MONRLxf4ra",
        "outputId": "2578d2e5-b3af-4f29-ce2f-009004d44a20"
      },
      "execution_count": 35,
      "outputs": [
        {
          "output_type": "stream",
          "name": "stdout",
          "text": [
            "6.579251212010102\n",
            "-1.8075166614192908\n"
          ]
        }
      ]
    },
    {
      "cell_type": "code",
      "source": [
        "# Import math Library\n",
        "import math\n",
        "\n",
        "# Return the natural logarithm of different numbers # ln diya korte hobe\n",
        "print(math.log(2.7183))\n",
        "print(math.log(2))\n",
        "print(math.log(1))"
      ],
      "metadata": {
        "colab": {
          "base_uri": "https://localhost:8080/"
        },
        "id": "0V7V02oZgUxc",
        "outputId": "80f7466f-fce3-481b-86b7-b7b67338af40"
      },
      "execution_count": 36,
      "outputs": [
        {
          "output_type": "stream",
          "name": "stdout",
          "text": [
            "1.0000066849139877\n",
            "0.6931471805599453\n",
            "0.0\n"
          ]
        }
      ]
    },
    {
      "cell_type": "code",
      "source": [
        "# Import math Library\n",
        "import math\n",
        "\n",
        "# Return the base-10 logarithm of different numbers\n",
        "print(math.log10(2.7183))\n",
        "print(math.log10(2))\n",
        "print(math.log10(1))"
      ],
      "metadata": {
        "colab": {
          "base_uri": "https://localhost:8080/"
        },
        "id": "RLblDZt6gWQg",
        "outputId": "4c45294d-e64b-4435-9869-cbe970e13d2e"
      },
      "execution_count": 37,
      "outputs": [
        {
          "output_type": "stream",
          "name": "stdout",
          "text": [
            "0.43429738512450866\n",
            "0.3010299956639812\n",
            "0.0\n"
          ]
        }
      ]
    },
    {
      "cell_type": "code",
      "source": [
        "# Import math Library\n",
        "import math\n",
        "\n",
        "# Return the log(1+number) for different numbers\n",
        "print(math.log1p(2.7183))\n",
        "print(math.log1p(2))\n",
        "print(math.log1p(1))"
      ],
      "metadata": {
        "colab": {
          "base_uri": "https://localhost:8080/"
        },
        "id": "leRU0pHJgt0V",
        "outputId": "60dbd06f-1d41-412b-f2b0-de8c01fbaca5"
      },
      "execution_count": 38,
      "outputs": [
        {
          "output_type": "stream",
          "name": "stdout",
          "text": [
            "1.3132665745863341\n",
            "1.0986122886681096\n",
            "0.6931471805599453\n"
          ]
        }
      ]
    },
    {
      "cell_type": "code",
      "source": [
        "# Import math Library\n",
        "import math\n",
        "\n",
        "# Return the base-2 logarithm of different numbers\n",
        "print(math.log2(2.7183))\n",
        "print(math.log2(2))\n",
        "print(math.log2(1))"
      ],
      "metadata": {
        "colab": {
          "base_uri": "https://localhost:8080/"
        },
        "id": "C3H3yRSrg12n",
        "outputId": "5a689d92-6574-4108-a54a-1f39565d4851"
      },
      "execution_count": 39,
      "outputs": [
        {
          "output_type": "stream",
          "name": "stdout",
          "text": [
            "1.4427046851812222\n",
            "1.0\n",
            "0.0\n"
          ]
        }
      ]
    },
    {
      "cell_type": "code",
      "source": [
        "# Import math Library\n",
        "import math\n",
        "\n",
        "# Initialize the number of items to choose from\n",
        "n = 7\n",
        "\n",
        "# Initialize the number of items to choose\n",
        "k = 5\n",
        "\n",
        "# Print the number of ways to choose k items from n items\n",
        "print (math.perm(n, k))"
      ],
      "metadata": {
        "colab": {
          "base_uri": "https://localhost:8080/"
        },
        "id": "J-33NopQg-jO",
        "outputId": "14b63af2-b798-439e-f325-c8824b50c2d2"
      },
      "execution_count": 40,
      "outputs": [
        {
          "output_type": "stream",
          "name": "stdout",
          "text": [
            "2520\n"
          ]
        }
      ]
    },
    {
      "cell_type": "code",
      "source": [
        "# Import math Library\n",
        "import math\n",
        "\n",
        "#Return the value of 9 raised to the power of 3\n",
        "print(math.pow(9, 3))"
      ],
      "metadata": {
        "colab": {
          "base_uri": "https://localhost:8080/"
        },
        "id": "W8goPAP_hCnC",
        "outputId": "7d5cd2c3-7f5d-4dee-b1f1-8c5e31625c23"
      },
      "execution_count": 41,
      "outputs": [
        {
          "output_type": "stream",
          "name": "stdout",
          "text": [
            "729.0\n"
          ]
        }
      ]
    },
    {
      "cell_type": "code",
      "source": [
        "# Import math Library\n",
        "import math\n",
        "\n",
        "sequence = (2, 2, 2)\n",
        "\n",
        "#Return the product of the elements\n",
        "print(math.prod(sequence))"
      ],
      "metadata": {
        "colab": {
          "base_uri": "https://localhost:8080/"
        },
        "id": "JSvipLN4hHbW",
        "outputId": "8e646c71-0e41-4d00-9bb7-bd648c6240c5"
      },
      "execution_count": 42,
      "outputs": [
        {
          "output_type": "stream",
          "name": "stdout",
          "text": [
            "8\n"
          ]
        }
      ]
    },
    {
      "cell_type": "code",
      "source": [
        "# Import math Library\n",
        "import math\n",
        "\n",
        "# Convert different degrees into radians\n",
        "print(math.radians(180))\n",
        "print(math.radians(100.03))\n",
        "print(math.radians(-20))"
      ],
      "metadata": {
        "colab": {
          "base_uri": "https://localhost:8080/"
        },
        "id": "Q_o-IGkrhNML",
        "outputId": "df2e93b5-5b74-4408-da90-72766dcab61a"
      },
      "execution_count": 43,
      "outputs": [
        {
          "output_type": "stream",
          "name": "stdout",
          "text": [
            "3.141592653589793\n",
            "1.7458528507699278\n",
            "-0.3490658503988659\n"
          ]
        }
      ]
    },
    {
      "cell_type": "code",
      "source": [
        "# Import math Library\n",
        "import math\n",
        "\n",
        "# Return the remainder of x/y\n",
        "print (math.remainder(9, 2))\n",
        "print (math.remainder(9, 3))\n",
        "print (math.remainder(18, 4))"
      ],
      "metadata": {
        "colab": {
          "base_uri": "https://localhost:8080/"
        },
        "id": "gICXMcF6hi71",
        "outputId": "d7619cdf-62e6-4aa9-de8c-2d5d448b8439"
      },
      "execution_count": 44,
      "outputs": [
        {
          "output_type": "stream",
          "name": "stdout",
          "text": [
            "1.0\n",
            "0.0\n",
            "2.0\n"
          ]
        }
      ]
    },
    {
      "cell_type": "code",
      "source": [
        "# Import math Library\n",
        "import math\n",
        "\n",
        "# Return the sine of different values\n",
        "print (math.sin(0.00))\n",
        "print (math.sin(-1.23))\n",
        "print (math.sin(10))\n",
        "print (math.sin(math.pi))\n",
        "print (math.sin(math.pi/2))"
      ],
      "metadata": {
        "colab": {
          "base_uri": "https://localhost:8080/"
        },
        "id": "urqWtZxghpHj",
        "outputId": "881f2f72-e344-4f98-d336-efc241197cae"
      },
      "execution_count": 45,
      "outputs": [
        {
          "output_type": "stream",
          "name": "stdout",
          "text": [
            "0.0\n",
            "-0.9424888019316975\n",
            "-0.5440211108893698\n",
            "1.2246467991473532e-16\n",
            "1.0\n"
          ]
        }
      ]
    },
    {
      "cell_type": "code",
      "source": [
        "# Import math Library\n",
        "import math\n",
        "\n",
        "# Return the hyperbolic sine of different values\n",
        "print(math.sinh(0.00))\n",
        "print(math.sinh(-23.45))\n",
        "print(math.sinh(23))\n",
        "print(math.sinh(1.00))\n",
        "print(math.sinh(math.pi))"
      ],
      "metadata": {
        "colab": {
          "base_uri": "https://localhost:8080/"
        },
        "id": "6THGIj5phuAp",
        "outputId": "c18716c7-b959-48de-9af2-5f0121a4dece"
      },
      "execution_count": 46,
      "outputs": [
        {
          "output_type": "stream",
          "name": "stdout",
          "text": [
            "0.0\n",
            "-7641446994.979367\n",
            "4872401723.124452\n",
            "1.1752011936438014\n",
            "11.548739357257748\n"
          ]
        }
      ]
    },
    {
      "cell_type": "code",
      "source": [
        "# Import math Library\n",
        "import math\n",
        "\n",
        "# Return the square root of different numbers\n",
        "print (math.sqrt(9))\n",
        "print (math.sqrt(25))\n",
        "print (math.sqrt(16))"
      ],
      "metadata": {
        "colab": {
          "base_uri": "https://localhost:8080/"
        },
        "id": "zK6fDNk_h9Qu",
        "outputId": "b0a6a02c-0ce7-4c1e-ba5e-419dacb2bdeb"
      },
      "execution_count": 47,
      "outputs": [
        {
          "output_type": "stream",
          "name": "stdout",
          "text": [
            "3.0\n",
            "5.0\n",
            "4.0\n"
          ]
        }
      ]
    },
    {
      "cell_type": "code",
      "source": [
        "# Import math Library\n",
        "import math\n",
        "\n",
        "# Return the tangent of different numbers\n",
        "print (math.tan(90))\n",
        "print (math.tan(-90))\n",
        "print (math.tan(45))\n",
        "print (math.tan(60))"
      ],
      "metadata": {
        "colab": {
          "base_uri": "https://localhost:8080/"
        },
        "id": "D51Zbu3EiASO",
        "outputId": "2a981df8-1abc-42c2-b393-faf35753e803"
      },
      "execution_count": 48,
      "outputs": [
        {
          "output_type": "stream",
          "name": "stdout",
          "text": [
            "-1.995200412208242\n",
            "1.995200412208242\n",
            "1.6197751905438615\n",
            "0.320040389379563\n"
          ]
        }
      ]
    },
    {
      "cell_type": "code",
      "source": [
        "# Import math Library\n",
        "import math\n",
        "\n",
        "# Return the truncated integer parts of different numbers\n",
        "print(math.trunc(2.77))\n",
        "print(math.trunc(8.32))\n",
        "print(math.trunc(-99.29))"
      ],
      "metadata": {
        "colab": {
          "base_uri": "https://localhost:8080/"
        },
        "id": "r4e-s75giE_a",
        "outputId": "c1a054b8-44c0-45d0-a770-90551cf5e7fa"
      },
      "execution_count": 49,
      "outputs": [
        {
          "output_type": "stream",
          "name": "stdout",
          "text": [
            "2\n",
            "8\n",
            "-99\n"
          ]
        }
      ]
    }
  ]
}